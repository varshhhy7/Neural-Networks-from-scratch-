{
 "cells": [
  {
   "cell_type": "markdown",
   "id": "8214fd36-52b2-4ece-b5c4-4e15e708b1c4",
   "metadata": {},
   "source": [
    "Neuron with 2 inputs\n",
    "---\n",
    "This code computes the output of a single neuron by taking the weighted sum of three input values, multiplying each by its corresponding weight, adding a bias term, and producing a scalar result that represents the linear transformation applied by that neuron before activation."
   ]
  },
  {
   "cell_type": "code",
   "execution_count": 3,
   "id": "a919bc1e-45d7-47e8-b5d6-c6ac9272b1f2",
   "metadata": {},
   "outputs": [
    {
     "name": "stdout",
     "output_type": "stream",
     "text": [
      "2.3\n"
     ]
    }
   ],
   "source": [
    "inputs=[1,2,3]\n",
    "weights=[0.2,0.8,-0.5]\n",
    "bias=2\n",
    "\n",
    "outputs = (inputs[0]*weights[0]+inputs[1]*weights[1]+inputs[2]*weights[2]+bias)\n",
    "print(outputs)"
   ]
  },
  {
   "cell_type": "markdown",
   "id": "e1660c04-29f0-4ed7-944c-4beea0e4d191",
   "metadata": {},
   "source": [
    "Neuron with 4 inputs\n",
    "---\n",
    "This code computes the output of a single neuron by taking the weighted sum of four input values, multiplying each by its corresponding weight, adding a bias term, and producing a scalar result that represents the linear transformation applied by that neuron before activation."
   ]
  },
  {
   "cell_type": "code",
   "execution_count": 10,
   "id": "f5a5cca5-139e-4342-94b6-580e2db89972",
   "metadata": {},
   "outputs": [
    {
     "name": "stdout",
     "output_type": "stream",
     "text": [
      "4.8\n"
     ]
    }
   ],
   "source": [
    "inputs=[1.0,2.0,3.0,2.5]\n",
    "weights=[0.2,0.8,-0.5,1.0]\n",
    "bias=2.0\n",
    "outputs = (inputs[0]*weights[0]+\n",
    "           inputs[1]*weights[1]+\n",
    "           inputs[2]*weights[2]+\n",
    "           inputs[3]*weights[3]+bias)\n",
    "print(outputs)"
   ]
  },
  {
   "cell_type": "markdown",
   "id": "5a3366b1-5e50-4cd2-a716-2b6ef311226f",
   "metadata": {},
   "source": [
    " Layers of Neurons\n",
    " ---\n",
    "This code explicitly calculates the output of each of three neurons in a dense layer by manually computing the dot product of the four input values with their respective neuron weights, then adding the associated bias to produce three final outputs that represent the linear transformation applied by the layer before any activation function."
   ]
  },
  {
   "cell_type": "code",
   "execution_count": 26,
   "id": "28f2cebd-38d7-4dce-9cbe-43fe089efc9a",
   "metadata": {},
   "outputs": [
    {
     "name": "stdout",
     "output_type": "stream",
     "text": [
      "[4.8, 1.21, 2.385]\n"
     ]
    }
   ],
   "source": [
    "inputs = [1, 2, 3, 2.5]\n",
    "\n",
    "weights = [[0.2, 0.8, -0.5, 1],\n",
    " [0.5, -0.91, 0.26, -0.5],\n",
    " [-0.26, -0.27, 0.17, 0.87]]\n",
    "\n",
    "weights1 = weights[0] #LIST OF WEIGHTS ASSOCIATED WITH 1ST NEURON : W11, W12, W13, W14\n",
    "weights2 = weights[1] #LIST OF WEIGHTS ASSOCIATED WITH 2ND NEURON : W21, W22, W23, W24\n",
    "weights3 = weights[2] #LIST OF WEIGHTS ASSOCIATED WITH 3RD NEURON : W31, W32, W33, W34\n",
    "\n",
    "biases = [2, 3, 0.5]\n",
    "\n",
    "bias1 = 2\n",
    "bias2 = 3\n",
    "bias3 = 0.5\n",
    "\n",
    "outputs = [\n",
    " # Neuron 1:\n",
    " inputs[0]*weights1[0] +\n",
    " inputs[1]*weights1[1] +\n",
    " inputs[2]*weights1[2] +\n",
    " inputs[3]*weights1[3] + bias1,\n",
    " # Neuron 2:\n",
    " inputs[0]*weights2[0] +\n",
    " inputs[1]*weights2[1] +\n",
    " inputs[2]*weights2[2] +\n",
    " inputs[3]*weights2[3] + bias2,\n",
    " # Neuron 3:\n",
    " inputs[0]*weights3[0] +\n",
    " inputs[1]*weights3[1] +\n",
    " inputs[2]*weights3[2] +\n",
    " inputs[3]*weights3[3] + bias3]\n",
    "\n",
    "print(outputs)"
   ]
  },
  {
   "cell_type": "markdown",
   "id": "7455c55e-ce2a-4f7d-a8ce-d2e1bb9e939d",
   "metadata": {},
   "source": [
    "Using Loops \n",
    "---\n",
    "This code performs the forward pass of a single dense neural network layer with three neurons and four inputs: each neuron computes a weighted sum of all inputs, adds its own bias term, and outputs the result as a single value, producing a three-element output vector that represents the activated state of the layer before any non-linear transformation.\r\n",
    "\r\n"
   ]
  },
  {
   "cell_type": "code",
   "execution_count": 28,
   "id": "2fc3b8b1-f2ec-4a2c-9216-a8d642eef17f",
   "metadata": {},
   "outputs": [
    {
     "name": "stdout",
     "output_type": "stream",
     "text": [
      "[4.8, 1.21, 2.385]\n"
     ]
    }
   ],
   "source": [
    "inputs = [1, 2, 3, 2.5]\n",
    "\n",
    "weights = [\n",
    "    [0.2, 0.8, -0.5, 1],\n",
    "    [0.5, -0.91, 0.26, -0.5],\n",
    "    [-0.26, -0.27, 0.17, 0.87]\n",
    "]\n",
    "\n",
    "biases = [2, 3, 0.5]\n",
    "\n",
    "layer_outputs = []\n",
    "\n",
    "for neuron_weights, neuron_bias in zip(weights, biases):\n",
    "    neuron_output = 0\n",
    "    for n_input, weight in zip(inputs, neuron_weights):\n",
    "        neuron_output += n_input * weight\n",
    "    neuron_output += neuron_bias\n",
    "    layer_outputs.append(neuron_output)\n",
    "\n",
    "print(layer_outputs)"
   ]
  },
  {
   "cell_type": "code",
   "execution_count": null,
   "id": "b2b40e0b-b585-4c19-8e99-8786fde444b8",
   "metadata": {},
   "outputs": [],
   "source": []
  }
 ],
 "metadata": {
  "kernelspec": {
   "display_name": "Python 3 (ipykernel)",
   "language": "python",
   "name": "python3"
  },
  "language_info": {
   "codemirror_mode": {
    "name": "ipython",
    "version": 3
   },
   "file_extension": ".py",
   "mimetype": "text/x-python",
   "name": "python",
   "nbconvert_exporter": "python",
   "pygments_lexer": "ipython3",
   "version": "3.12.4"
  }
 },
 "nbformat": 4,
 "nbformat_minor": 5
}
