{
  "nbformat": 4,
  "nbformat_minor": 0,
  "metadata": {
    "colab": {
      "provenance": []
    },
    "kernelspec": {
      "name": "python3",
      "display_name": "Python 3"
    },
    "language_info": {
      "name": "python"
    }
  },
  "cells": [
    {
      "cell_type": "code",
      "execution_count": 15,
      "metadata": {
        "id": "iCcqWDaX2OFR"
      },
      "outputs": [],
      "source": [
        "import numpy as np"
      ]
    },
    {
      "cell_type": "markdown",
      "source": [
        "# Array Creation & Basic Info\n",
        "\n",
        "NumPy arrays (`ndarray`) are the fundamental building blocks for numerical computing in Python.  \n",
        "Unlike Python lists, NumPy arrays are **homogeneous** (all elements have the same data type) and support **fast vectorized operations**.\n",
        "\n",
        "Key concepts:  \n",
        "- **Shape** → the size of the array in each dimension (e.g., `(2,3)` means 2 rows and 3 columns).  \n",
        "- **ndim** → the number of dimensions (1D, 2D, 3D, etc.).  \n",
        "- **dtype** → the type of elements (`int32`, `float64`, etc.).  \n",
        "- **Size** → total number of elements in the array.\n",
        "\n",
        "Arrays can be created using:  \n",
        "- `np.array([...])` → from Python lists  \n",
        "- `np.zeros((m,n))` → array of zeros  \n",
        "- `np.ones((m,n))` → array of ones  \n",
        "- `np.arange(start, stop, step)` → sequence  \n",
        "- `np.linspace(start, stop, num)` → evenly spaced values  \n"
      ],
      "metadata": {
        "id": "102o-KFkAE1q"
      }
    },
    {
      "cell_type": "code",
      "source": [
        "import numpy as np\n",
        "\n",
        "x = np.array([10, 20, 30, 40])\n",
        "y = np.array([[1.5, 2.5, 3.5], [4.5, 5.5, 6.5]])\n",
        "\n",
        "print(\"Array x:\", x)\n",
        "print(\"Shape of x:\", x.shape)\n",
        "print(\"Array y:\\n\", y)\n",
        "print(\"Dimensions of y:\", y.ndim)\n",
        "print(\"Data type of y:\", y.dtype)\n",
        "print(\"Size of y:\", y.size)\n"
      ],
      "metadata": {
        "colab": {
          "base_uri": "https://localhost:8080/"
        },
        "id": "5dkChfWx4ngs",
        "outputId": "b72210e0-49d2-4e09-b192-f611f2b2b7fe"
      },
      "execution_count": 44,
      "outputs": [
        {
          "output_type": "stream",
          "name": "stdout",
          "text": [
            "Array x: [10 20 30 40]\n",
            "Shape of x: (4,)\n",
            "Array y:\n",
            " [[1.5 2.5 3.5]\n",
            " [4.5 5.5 6.5]]\n",
            "Dimensions of y: 2\n",
            "Data type of y: float64\n",
            "Size of y: 6\n"
          ]
        }
      ]
    },
    {
      "cell_type": "markdown",
      "source": [
        "# Array Creation & Basic Info\n",
        "\n",
        "NumPy arrays (`ndarray`) are the fundamental building blocks for numerical computing in Python.  \n",
        "Unlike Python lists, NumPy arrays are **homogeneous** (all elements have the same data type) and support **fast vectorized operations**.\n",
        "\n",
        "Key concepts:  \n",
        "- **Shape** → the size of the array in each dimension (e.g., `(2,3)` means 2 rows and 3 columns).  \n",
        "- **ndim** → the number of dimensions (1D, 2D, 3D, etc.).  \n",
        "- **dtype** → the type of elements (`int32`, `float64`, etc.).  \n",
        "- **Size** → total number of elements in the array.\n",
        "\n",
        "Arrays can be created using:  \n",
        "- `np.array([...])` → from Python lists  \n",
        "- `np.zeros((m,n))` → array of zeros  \n",
        "- `np.ones((m,n))` → array of ones  \n",
        "- `np.arange(start, stop, step)` → sequence  \n",
        "- `np.linspace(start, stop, num)` → evenly spaced values  \n"
      ],
      "metadata": {
        "id": "7DYFxz0LAjeI"
      }
    },
    {
      "cell_type": "code",
      "source": [
        "arr = np.array([[10,20,30],[40,50,60],[70,80,90]])\n",
        "\n",
        "print(\"First row:\", arr[0])\n",
        "print(\"Second column:\", arr[:,1])\n",
        "print(\"Subarray (first 2 rows, last 2 cols):\\n\", arr[0:2, 1:3])\n",
        "print(\"Last row:\", arr[-1])\n"
      ],
      "metadata": {
        "colab": {
          "base_uri": "https://localhost:8080/"
        },
        "id": "OA5g0fr4AQy4",
        "outputId": "064b1ea7-0b9c-4ad1-f893-522a4fe3a937"
      },
      "execution_count": 45,
      "outputs": [
        {
          "output_type": "stream",
          "name": "stdout",
          "text": [
            "First row: [10 20 30]\n",
            "Second column: [20 50 80]\n",
            "Subarray (first 2 rows, last 2 cols):\n",
            " [[20 30]\n",
            " [50 60]]\n",
            "Last row: [70 80 90]\n"
          ]
        }
      ]
    },
    {
      "cell_type": "markdown",
      "source": [
        "# Elementwise Operations\n",
        "\n",
        "One of the most powerful features of NumPy is **vectorization**:  \n",
        "Instead of looping through elements, operations are applied to all elements at once.\n",
        "\n",
        "- Addition, subtraction, multiplication, division all work elementwise.  \n",
        "- Exponentiation (`**`), trigonometric functions, logarithms, etc., are all vectorized.  \n",
        "- **Broadcasting** allows operations between arrays of different shapes (e.g., array with scalar).\n",
        "\n",
        "This is crucial for neural networks where we apply operations to large tensors efficiently.\n"
      ],
      "metadata": {
        "id": "VeGYW6ttAt1g"
      }
    },
    {
      "cell_type": "code",
      "source": [
        "a = np.array([1,2,3])\n",
        "b = np.array([10,20,30])\n",
        "\n",
        "print(\"Addition:\", a + b)        # [11 22 33]\n",
        "print(\"Multiplication:\", a * b)  # [10 40 90]\n",
        "print(\"Squared:\", a**2)          # [1 4 9]\n",
        "print(\"Broadcasting (a*5):\", a*5) # [ 5 10 15]\n"
      ],
      "metadata": {
        "colab": {
          "base_uri": "https://localhost:8080/"
        },
        "id": "uO8TdokM64ZT",
        "outputId": "5d0bf2a8-5fb8-4497-ceff-beb18d5552a7"
      },
      "execution_count": 46,
      "outputs": [
        {
          "output_type": "stream",
          "name": "stdout",
          "text": [
            "Addition: [11 22 33]\n",
            "Multiplication: [10 40 90]\n",
            "Squared: [1 4 9]\n",
            "Broadcasting (a*5): [ 5 10 15]\n"
          ]
        }
      ]
    },
    {
      "cell_type": "markdown",
      "source": [
        "# Aggregations\n",
        "\n",
        "Aggregations summarize data across an array:  \n",
        "- `np.sum()` → total sum of elements  \n",
        "- `np.mean()` → average value  \n",
        "- `np.min()`, `np.max()` → minimum/maximum  \n",
        "- `np.argmax()`, `np.argmin()` → index of maximum/minimum  \n",
        "\n",
        "Axis parameter:  \n",
        "- `axis=0` → operation along columns (collapse rows)  \n",
        "- `axis=1` → operation along rows (collapse columns)  \n",
        "\n",
        "In neural networks, aggregations are used for operations like **loss calculation (mean squared error)**.\n"
      ],
      "metadata": {
        "id": "Gs8nF5uqAzco"
      }
    },
    {
      "cell_type": "code",
      "source": [
        "mat = np.array([[2,4,6],[1,3,5]])\n",
        "\n",
        "print(\"Total sum:\", np.sum(mat))\n",
        "print(\"Column-wise mean:\", np.mean(mat, axis=0))\n",
        "print(\"Row-wise max:\", np.max(mat, axis=1))\n",
        "print(\"Index of min element:\", np.argmin(mat))\n"
      ],
      "metadata": {
        "colab": {
          "base_uri": "https://localhost:8080/"
        },
        "id": "8PlHmAiaAwrR",
        "outputId": "160a646d-5f2f-4ad9-fb3e-76002f9ca334"
      },
      "execution_count": 47,
      "outputs": [
        {
          "output_type": "stream",
          "name": "stdout",
          "text": [
            "Total sum: 21\n",
            "Column-wise mean: [1.5 3.5 5.5]\n",
            "Row-wise max: [6 5]\n",
            "Index of min element: 3\n"
          ]
        }
      ]
    },
    {
      "cell_type": "markdown",
      "source": [
        "# Reshape & Transpose\n",
        "\n",
        "- **Reshape**: Changes the structure of the array without changing the data.  \n",
        "  Example: a flat vector of size 6 can be reshaped into a `(2,3)` or `(3,2)` matrix.  \n",
        "\n",
        "- **Transpose**: Swaps rows and columns (`arr.T`).  \n",
        "  This is essential in linear algebra when matching matrix dimensions for multiplication.  \n",
        "\n",
        "In neural networks, reshaping and transposing are frequently used to align weights and inputs.\n"
      ],
      "metadata": {
        "id": "MvOVmD_iA4qo"
      }
    },
    {
      "cell_type": "code",
      "source": [
        "z = np.arange(1,7)   # [1 2 3 4 5 6]\n",
        "\n",
        "reshaped = z.reshape(2,3)\n",
        "print(\"Reshaped to 2x3:\\n\", reshaped)\n",
        "\n",
        "transposed = reshaped.T\n",
        "print(\"Transpose:\\n\", transposed)\n"
      ],
      "metadata": {
        "colab": {
          "base_uri": "https://localhost:8080/"
        },
        "id": "dzR4QDn_A1fg",
        "outputId": "abb258d6-bc4a-41cf-cfc2-4635f54818c0"
      },
      "execution_count": 48,
      "outputs": [
        {
          "output_type": "stream",
          "name": "stdout",
          "text": [
            "Reshaped to 2x3:\n",
            " [[1 2 3]\n",
            " [4 5 6]]\n",
            "Transpose:\n",
            " [[1 4]\n",
            " [2 5]\n",
            " [3 6]]\n"
          ]
        }
      ]
    },
    {
      "cell_type": "markdown",
      "source": [
        "# Matrix Operations\n",
        "\n",
        "Neural networks rely heavily on **linear algebra**.  \n",
        "NumPy provides efficient matrix operations:\n",
        "\n",
        "- **Dot product** (`np.dot(a,b)`) → scalar product of two vectors.  \n",
        "- **Matrix multiplication** (`@` operator or `np.matmul`) → combines two matrices.  \n",
        "- **Outer product** (`np.outer`) → creates a matrix by multiplying every element of one vector by every element of another.  \n",
        "\n",
        "These operations power forward passes in neural networks.\n"
      ],
      "metadata": {
        "id": "_C4h953LA9gw"
      }
    },
    {
      "cell_type": "code",
      "source": [
        "p = np.array([1,2])\n",
        "q = np.array([3,4])\n",
        "\n",
        "M1 = np.array([[1,2],[3,4]])\n",
        "M2 = np.array([[5,6],[7,8]])\n",
        "\n",
        "print(\"Dot product:\", np.dot(p,q))\n",
        "print(\"Matrix multiplication:\\n\", M1 @ M2)\n",
        "print(\"Outer product:\\n\", np.outer(p,q))\n"
      ],
      "metadata": {
        "colab": {
          "base_uri": "https://localhost:8080/"
        },
        "id": "sAFkCcvbA7Gg",
        "outputId": "af28177a-71ec-4ebe-ef93-c1f10a4a7353"
      },
      "execution_count": 49,
      "outputs": [
        {
          "output_type": "stream",
          "name": "stdout",
          "text": [
            "Dot product: 11\n",
            "Matrix multiplication:\n",
            " [[19 22]\n",
            " [43 50]]\n",
            "Outer product:\n",
            " [[3 4]\n",
            " [6 8]]\n"
          ]
        }
      ]
    },
    {
      "cell_type": "markdown",
      "source": [
        "# Boolean Indexing & Masks\n",
        "\n",
        "Boolean indexing allows filtering elements based on conditions:  \n",
        "- `arr > value` → returns a boolean mask.  \n",
        "- `arr[mask]` → returns only elements where mask is True.  \n",
        "- `np.where(condition, x, y)` → replaces values based on condition.  \n",
        "\n",
        "This is useful in neural networks for things like **applying activation functions** (e.g., ReLU sets negative values to 0).\n"
      ],
      "metadata": {
        "id": "5ANvzaXYBEVQ"
      }
    },
    {
      "cell_type": "code",
      "source": [
        "nums = np.array([3,6,9,12,15,18])\n",
        "\n",
        "mask = nums > 10\n",
        "print(\"Mask:\", mask)\n",
        "print(\"Elements greater than 10:\", nums[mask])\n",
        "\n",
        "print(\"Replace >10 with 0:\", np.where(nums>10, 0, nums))\n"
      ],
      "metadata": {
        "colab": {
          "base_uri": "https://localhost:8080/"
        },
        "id": "7-M3r1KEBB9o",
        "outputId": "58ad4bda-98ec-42b8-9789-87181d03c43c"
      },
      "execution_count": 50,
      "outputs": [
        {
          "output_type": "stream",
          "name": "stdout",
          "text": [
            "Mask: [False False False  True  True  True]\n",
            "Elements greater than 10: [12 15 18]\n",
            "Replace >10 with 0: [3 6 9 0 0 0]\n"
          ]
        }
      ]
    },
    {
      "cell_type": "markdown",
      "source": [
        "# Stacking & Splitting\n",
        "\n",
        "- **Stacking** combines multiple arrays:  \n",
        "  - `np.vstack` → vertical stack (row-wise)  \n",
        "  - `np.hstack` → horizontal stack (column-wise)  \n",
        "\n",
        "- **Splitting** divides an array into smaller subarrays:  \n",
        "  - `np.split(arr, n)` → splits into `n` equal parts  \n",
        "\n",
        "In practice, stacking and splitting help with **batch processing** in training.\n"
      ],
      "metadata": {
        "id": "9ZG_NqYpBH5Q"
      }
    },
    {
      "cell_type": "code",
      "source": [
        "arr1 = np.array([1,2,3])\n",
        "arr2 = np.array([4,5,6])\n",
        "\n",
        "print(\"Vertical stack:\\n\", np.vstack([arr1, arr2]))\n",
        "print(\"Horizontal stack:\\n\", np.hstack([arr1, arr2]))\n",
        "\n",
        "split = np.split(np.array([10,20,30,40,50,60]), 3)\n",
        "print(\"Splitted into 3:\", split)\n"
      ],
      "metadata": {
        "colab": {
          "base_uri": "https://localhost:8080/"
        },
        "id": "JVF3ee_4BGdp",
        "outputId": "3c58d29f-4956-4691-eb78-37e452262ce0"
      },
      "execution_count": 51,
      "outputs": [
        {
          "output_type": "stream",
          "name": "stdout",
          "text": [
            "Vertical stack:\n",
            " [[1 2 3]\n",
            " [4 5 6]]\n",
            "Horizontal stack:\n",
            " [1 2 3 4 5 6]\n",
            "Splitted into 3: [array([10, 20]), array([30, 40]), array([50, 60])]\n"
          ]
        }
      ]
    },
    {
      "cell_type": "markdown",
      "source": [
        "# Random Numbers\n",
        "\n",
        "Random initialization is crucial in neural networks (weights start random to break symmetry).  \n",
        "\n",
        "NumPy random functions:  \n",
        "- `np.random.rand(m,n)` → uniform distribution [0,1).  \n",
        "- `np.random.randn(m,n)` → standard normal distribution.  \n",
        "- `np.random.randint(low, high, size)` → random integers.  \n",
        "- `np.random.seed()` → ensures reproducibility (important in experiments).  \n"
      ],
      "metadata": {
        "id": "HGPPDMn-BPCQ"
      }
    },
    {
      "cell_type": "code",
      "source": [
        "np.random.seed(123)\n",
        "\n",
        "rand_uniform = np.random.rand(2,3)\n",
        "rand_normal = np.random.randn(2,3)\n",
        "rand_int = np.random.randint(0,10,size=(2,3))\n",
        "\n",
        "print(\"Random uniform:\\n\", rand_uniform)\n",
        "print(\"Random normal:\\n\", rand_normal)\n",
        "print(\"Random integers:\\n\", rand_int)\n"
      ],
      "metadata": {
        "colab": {
          "base_uri": "https://localhost:8080/"
        },
        "id": "kJh-ld8vBKV4",
        "outputId": "796a71e5-683f-4ca4-f840-56a46d5dd449"
      },
      "execution_count": 53,
      "outputs": [
        {
          "output_type": "stream",
          "name": "stdout",
          "text": [
            "Random uniform:\n",
            " [[0.69646919 0.28613933 0.22685145]\n",
            " [0.55131477 0.71946897 0.42310646]]\n",
            "Random normal:\n",
            " [[-2.42667924 -0.42891263  1.26593626]\n",
            " [-0.8667404  -0.67888615 -0.09470897]]\n",
            "Random integers:\n",
            " [[0 0 4]\n",
            " [1 7 3]]\n"
          ]
        }
      ]
    },
    {
      "cell_type": "markdown",
      "source": [
        "# Python vs NumPy Matrix Multiplication\n",
        "\n",
        "Matrix multiplication is at the core of deep learning.  \n",
        "- Neural networks repeatedly compute `weights @ inputs` (matrix-vector and matrix-matrix multiplications).  \n",
        "- In **pure Python**, implementing matrix multiplication with nested loops is very slow because:\n",
        "  - Each operation happens one-by-one.\n",
        "  - Python lists are not optimized for numerical computation.\n",
        "\n",
        "- In **NumPy**, operations are implemented in optimized C and Fortran under the hood (using BLAS/LAPACK).  \n",
        "  This makes them **much faster** than Python loops.\n",
        "\n",
        "In this example:  \n",
        "- We generate two random matrices `A` and `B` of size `100x100`.  \n",
        "- We multiply them using both:\n",
        "  1. Pure Python (triple nested loops).  \n",
        "  2. NumPy (`@` operator and `np.matmul`).  \n",
        "- We compare the execution time.\n"
      ],
      "metadata": {
        "id": "rhTxbYryGct-"
      }
    },
    {
      "cell_type": "code",
      "source": [
        "import time\n",
        "import random\n",
        "import numpy as np\n",
        "\n",
        "# Size of the matrix\n",
        "N = 100\n",
        "\n",
        "# Initialize empty matrices\n",
        "A = [[0]*N for _ in range(N)]\n",
        "B = [[0]*N for _ in range(N)]\n",
        "C = [[0]*N for _ in range(N)]\n",
        "\n",
        "# Fill A and B with random numbers\n",
        "for i in range(N):\n",
        "    for j in range(N):\n",
        "        A[i][j] = random.random()\n",
        "        B[i][j] = random.random()\n",
        "\n",
        "# ------------------ Pure Python Matrix Multiplication ------------------\n",
        "time_start = time.time()\n",
        "\n",
        "for i in range(N):\n",
        "    for j in range(N):\n",
        "        C[i][j] = 0\n",
        "        for k in range(N):\n",
        "            C[i][j] += A[i][k] * B[k][j]\n",
        "\n",
        "time_end = time.time()\n",
        "print(\"Time taken (Pure Python):\", time_end - time_start)\n",
        "\n",
        "# ------------------ NumPy Matrix Multiplication ------------------\n",
        "A1 = np.random.rand(N, N)\n",
        "B1 = np.random.rand(N, N)\n",
        "\n",
        "# Method 1: Using @ operator\n",
        "time_start_np = time.time()\n",
        "C1 = A1 @ B1\n",
        "time_end_np = time.time()\n",
        "print(\"Time taken (NumPy @ operator):\", time_end_np - time_start_np)\n",
        "\n",
        "# Method 2: Using np.matmul\n",
        "time_start_up = time.time()\n",
        "C2 = np.matmul(A1, B1)\n",
        "time_end_up = time.time()\n",
        "print(\"Time taken (NumPy matmul):\", time_end_up - time_start_up)\n"
      ],
      "metadata": {
        "colab": {
          "base_uri": "https://localhost:8080/"
        },
        "id": "cU0QRpKVBNyQ",
        "outputId": "8b12ba96-d873-4301-e1bb-b9164ea79e67"
      },
      "execution_count": 56,
      "outputs": [
        {
          "output_type": "stream",
          "name": "stdout",
          "text": [
            "Time taken (Pure Python): 0.3903768062591553\n",
            "Time taken (NumPy @ operator): 0.006885528564453125\n",
            "Time taken (NumPy matmul): 0.0002765655517578125\n"
          ]
        }
      ]
    },
    {
      "cell_type": "markdown",
      "source": [
        "# 🏆 Mini Challenge – Student Scores Analysis\n",
        "\n",
        "Imagine we have exam scores of **5 students across 3 subjects** stored in a NumPy array:\n",
        "```\n",
        "# ThisA = np.array([\n",
        "[60, 70, 95], # Student 1\n",
        "[83, 68, 79], # Student 2\n",
        "[91, 39, 45], # Student 3\n",
        "[90, 90, 3], # Student 4\n",
        "[80, 81, 82] # Student 5\n",
        "])\n",
        "```\n",
        "\n",
        "Your challenge is to use **NumPy operations** to answer the following:\n",
        "\n",
        "1. 📊 **Find the average score of each student**  \n",
        "   - Hint: Use `np.mean(..., axis=1)`  \n",
        "\n",
        "2. 🏅 **Find the highest score in each subject**  \n",
        "   - Hint: Use `np.max(..., axis=0)`  \n",
        "\n",
        "3. 🎯 **Find the student index (roll number) who topped in each subject**  \n",
        "   - Hint: Use `np.argmax(..., axis=0)`  \n",
        "\n",
        "4. 👑 **Find the overall topper** (student with the highest total score across all subjects)  \n",
        "   - Hint: First compute row-wise sum (`np.sum(..., axis=1)`), then find the index of the maximum.\n",
        "\n",
        "---\n",
        "\n",
        "✅ This mini challenge helps you practice:\n",
        "- **Axis operations** (`axis=0` for subjects, `axis=1` for students)  \n",
        "- **Aggregations** (`mean`, `max`, `sum`)  \n",
        "- **Finding indices** (`argmax`)  \n",
        "\n",
        "This is exactly how NumPy is used in real-world scenarios like processing student records, leaderboards, or performance analysis in machine learning datasets.\n",
        "\n",
        "\n",
        "\n"
      ],
      "metadata": {
        "id": "HaL2yA1qKKZN"
      }
    },
    {
      "cell_type": "code",
      "source": [
        "A=np.array([[60,70,95],[83,68,79],[91,39,45],[90,90,3],[80,81,82]])\n",
        "\n",
        "mean_scores=np.mean(A,axis=1)\n",
        "print(mean_scores)\n",
        "\n",
        "subject_top_score=np.max(A,axis=0)\n",
        "print(subject_top_score)\n",
        "\n",
        "print(\"Subject toppers=\",np.argmax(A,axis=0))\n",
        "\n",
        "print(\"overall toper is student number\", np.argmax(np.sum(A , axis=1)))"
      ],
      "metadata": {
        "colab": {
          "base_uri": "https://localhost:8080/"
        },
        "id": "sUWorXRYFsX3",
        "outputId": "9adece2f-d391-4510-cee9-7a5c73f59ab6"
      },
      "execution_count": 68,
      "outputs": [
        {
          "output_type": "stream",
          "name": "stdout",
          "text": [
            "[75.         76.66666667 58.33333333 61.         81.        ]\n",
            "[91 90 95]\n",
            "Subject toppers= [2 3 0]\n",
            "overall toper is student number 4\n"
          ]
        }
      ]
    },
    {
      "cell_type": "code",
      "source": [
        ""
      ],
      "metadata": {
        "id": "cuOZWWM3HsYu"
      },
      "execution_count": null,
      "outputs": []
    }
  ]
}