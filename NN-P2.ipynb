{
 "cells": [
  {
   "cell_type": "code",
   "execution_count": 1,
   "id": "5e0d40ad-518e-45e5-ac28-bcf34fcf0835",
   "metadata": {},
   "outputs": [],
   "source": [
    "import numpy as np"
   ]
  },
  {
   "cell_type": "markdown",
   "id": "28055c9d-d0b0-4ec9-ac04-ed25b506d480",
   "metadata": {},
   "source": [
    "Neural Network Neuron Forward Pass with NumPy Dot Product\n",
    "---\r\n",
    "This code computes the output of a single neuron using NumPy’s dot function to perform the dot product between input values and their corresponding weights, then adds a bias term — demonstrating that the dot product is commutative for two 1D arrays, so both np.dot(weights, inputs) and np.dot(inputs, weights) yield the same result, producing a scalar output that represents the linear transformation of the neuron before activation."
   ]
  },
  {
   "cell_type": "code",
   "execution_count": 11,
   "id": "f4b595b5-cc9a-40fd-a9c8-76d081cfbf41",
   "metadata": {},
   "outputs": [
    {
     "name": "stdout",
     "output_type": "stream",
     "text": [
      "4.8\n",
      "4.8\n"
     ]
    }
   ],
   "source": [
    "import numpy as np\n",
    "inputs=[1.0,2.0,3.0,2.5]\n",
    "weights=[0.2,0.8,-0.5,1.0]\n",
    "bias=2.0\n",
    "outputs=np.dot(weights,inputs)+bias\n",
    "outputs1=np.dot(inputs,weights)+bias\n",
    "\n",
    "print(outputs)\n",
    "print(outputs1)"
   ]
  },
  {
   "cell_type": "markdown",
   "id": "c3731390-3993-43f7-8d82-cd0c01dc53ab",
   "metadata": {},
   "source": [
    "Dense Layer Forward Pass with NumPy Matrix Multiplication\n",
    "---\r\n",
    "This code computes the forward pass of a dense layer with three neurons and four inputs using NumPy’s matrix multiplication (np.dot), where the weight matrix is multiplied by the input vector to produce a batch of weighted sums, and the bias vector is added element-wise to generate the final output — resulting in a three-element vector that represents the linear transformation applied by each neuron in the layer before any activation function."
   ]
  },
  {
   "cell_type": "code",
   "execution_count": 17,
   "id": "9a25150c-d7ca-4074-94ab-3d1abc68b91d",
   "metadata": {},
   "outputs": [
    {
     "name": "stdout",
     "output_type": "stream",
     "text": [
      "[4.8   1.21  2.385]\n"
     ]
    }
   ],
   "source": [
    "inputs=[1.0,2.0,3.0,2.5]\n",
    "weights=[[0.2,0.8,-0.5,1],\n",
    "         [0.5,-0.91,0.26,-0.5],\n",
    "         [-0.26,-0.27,0.17,0.87]]\n",
    "biases=[2.0,3.0,0.5]\n",
    "\n",
    "layer_outputs=np.dot(weights , inputs)+biases\n",
    "print(layer_outputs)"
   ]
  },
  {
   "cell_type": "markdown",
   "id": "386a1587-83b1-4f73-9191-132f227080ee",
   "metadata": {},
   "source": [
    "Batched Dense Layer Forward Pass with NumPy\n",
    "---\r\n",
    "This code performs a forward pass for a batch of three input samples through a dense layer with three neurons, using NumPy’s matrix multiplication to compute the dot product between each input vector and the transposed weight matrix, then adding the bias vector element-wise — producing a 3×3 output matrix where each row corresponds to the linear outputs of all neurons for one input sample, enabling efficient parallel evaluation across multiple data points. The np.array() conversion ensures that weights is explicitly treated as a NumPy array, guaranteeing proper matrix operations even if weights were initially defined as a nested Python list — this avoids potential ambiguity in broadcasting or alignment during np.dot, ensuring consistent and predictable behavior across different input types."
   ]
  },
  {
   "cell_type": "code",
   "execution_count": 20,
   "id": "d5887a33-2485-4d5c-8683-c4f619126768",
   "metadata": {},
   "outputs": [
    {
     "name": "stdout",
     "output_type": "stream",
     "text": [
      "[[ 4.8    1.21   2.385]\n",
      " [ 8.9   -1.81   0.2  ]\n",
      " [ 1.41   1.051  0.026]]\n"
     ]
    }
   ],
   "source": [
    "inputs=[[1.0,2.0,3.0,2.5],[2.0,5.0,-1.0,2.0],[-1.5,2.7,3.3,-0.8]]\n",
    "weights=[[0.2,0.8,-0.5,1],\n",
    "         [0.5,-0.91,0.26,-0.5],\n",
    "         [-0.26,-0.27,0.17,0.87]]\n",
    "biases=[2.0,3.0,0.5]\n",
    "\n",
    "outputs=np.dot(inputs,np.array(weights).T)+biases\n",
    "print(outputs)"
   ]
  },
  {
   "cell_type": "code",
   "execution_count": null,
   "id": "96e4c0db-39cf-4a1c-8ec6-dffa8574dbee",
   "metadata": {},
   "outputs": [],
   "source": []
  }
 ],
 "metadata": {
  "kernelspec": {
   "display_name": "Python 3 (ipykernel)",
   "language": "python",
   "name": "python3"
  },
  "language_info": {
   "codemirror_mode": {
    "name": "ipython",
    "version": 3
   },
   "file_extension": ".py",
   "mimetype": "text/x-python",
   "name": "python",
   "nbconvert_exporter": "python",
   "pygments_lexer": "ipython3",
   "version": "3.12.4"
  }
 },
 "nbformat": 4,
 "nbformat_minor": 5
}
