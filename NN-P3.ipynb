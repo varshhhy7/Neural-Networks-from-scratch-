{
 "cells": [
  {
   "cell_type": "code",
   "execution_count": null,
   "id": "1fc55c1f-1fd6-4cd0-80a8-92e28cb4cc5a",
   "metadata": {},
   "outputs": [],
   "source": [
    "import numpy as np"
   ]
  },
  {
   "cell_type": "markdown",
   "id": "155226dd-d076-4240-b97d-157cb27cd286",
   "metadata": {},
<<<<<<< HEAD
   "source": [
    "Deep Neural Network Forward Pass with Two Dense Layers\n",
    "---\r\n",
    "This code implements a two-layer feedforward neural network, where the first dense layer transforms the batch of input samples using learned weights and biases to produce hidden representations, and the second layer further processes those outputs with a separate set of weights and biases to generate the final predictions — both layers use NumPy’s matrix multiplication for efficient computation, with explicit conversion of all inputs to NumPy arrays to ensure consistent, high-performance tensor operations and proper broadcasting during linear transformations."
   ]
=======
   "source": []
>>>>>>> 97cfc53e9fa96825a189a7c810eb35a440676e4a
  },
  {
   "cell_type": "code",
   "execution_count": 11,
   "id": "54aad21c-9076-41b5-8e7e-ae6b18e7fcc6",
   "metadata": {},
   "outputs": [
    {
     "name": "stdout",
     "output_type": "stream",
     "text": [
      "[[ 0.5031  -1.04185 -2.46805]\n",
      " [ 0.2434  -2.7332  -5.7993 ]\n",
      " [-0.99314  1.41254 -0.36123]]\n"
     ]
    }
   ],
   "source": [
    "\n",
    "inputs=[[1,2,3,2.5],\n",
    "        [2.,5.,-1.,2],\n",
    "        [-1.5,2.7,3.3,-0.8]]\n",
    "\n",
    "weights=[[0.2,0.8,-0.5,1],\n",
    "         [0.5,-0.91,0.26,-0.5],\n",
    "         [-0.26,-0.27,0.17,0.87]]\n",
    "\n",
    "biases=[2,3,0.5]\n",
    "\n",
    "weights_2=[[0.1,-0.14,0.5],\n",
    "          [-0.5,0.12,-0.33],\n",
    "          [-0.44,0.73,-0.31]]\n",
    "\n",
    "biases2=[-1,2,-0.5]\n",
    "\n",
    "\n",
    "inputs_array=np.array(inputs)\n",
    "weights_array=np.array(weights)\n",
    "biases_array=np.array(biases)\n",
    "weights2_array=np.array(weights_2)\n",
    "biases2_array=np.array(biases2)\n",
    "\n",
    "layer1_outputs=np.dot(inputs_array,weights_array.T)+biases_array\n",
    "layer2_outputs=np.dot(layer1_outputs,weights2_array.T)+biases2_array\n",
    "\n",
    "print(layer2_outputs)"
   ]
  },
  {
   "cell_type": "code",
   "execution_count": null,
   "id": "e367aa13-2d85-4ec0-ae3d-12bcd715ab54",
   "metadata": {},
   "outputs": [],
   "source": []
  }
 ],
 "metadata": {
  "kernelspec": {
   "display_name": "Python 3 (ipykernel)",
   "language": "python",
   "name": "python3"
  },
  "language_info": {
   "codemirror_mode": {
    "name": "ipython",
    "version": 3
   },
   "file_extension": ".py",
   "mimetype": "text/x-python",
   "name": "python",
   "nbconvert_exporter": "python",
   "pygments_lexer": "ipython3",
   "version": "3.12.4"
  }
 },
 "nbformat": 4,
 "nbformat_minor": 5
}
