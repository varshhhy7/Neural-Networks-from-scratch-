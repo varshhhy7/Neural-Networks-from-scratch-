{
 "cells": [
  {
   "cell_type": "code",
   "execution_count": 1,
   "id": "0d993e95-ac11-4bfa-9d38-4c41a1e577cb",
   "metadata": {},
   "outputs": [],
   "source": [
    "import numpy as np"
   ]
  },
  {
   "cell_type": "code",
   "execution_count": 5,
   "id": "4bb74d11-23c2-4a96-9cf9-d860ce9d59c8",
   "metadata": {},
   "outputs": [
    {
     "name": "stdout",
     "output_type": "stream",
     "text": [
      "45\n"
     ]
    }
   ],
   "source": [
    "A=[[1,2,3],[4,5,6],[7,8,9]]\n",
    "print(np.sum(A))"
   ]
  },
  {
   "cell_type": "code",
   "execution_count": 7,
   "id": "5685453d-17f2-42c4-8d76-117e282f9d97",
   "metadata": {},
   "outputs": [
    {
     "name": "stdout",
     "output_type": "stream",
     "text": [
      "[12 15 18]\n",
      "(3,)\n"
     ]
    }
   ],
   "source": [
    "print(np.sum(A,axis=0))\n",
    "print(np.sum(A,axis=0).shape)"
   ]
  },
  {
   "cell_type": "code",
   "execution_count": 9,
   "id": "3ccb68fe-698f-45d3-a0fb-e92a034311fd",
   "metadata": {},
   "outputs": [
    {
     "name": "stdout",
     "output_type": "stream",
     "text": [
      "[ 6 15 24]\n",
      "(3,)\n"
     ]
    }
   ],
   "source": [
    "print(np.sum(A,axis=1))\n",
    "print(np.sum(A,axis=1).shape)"
   ]
  },
  {
   "cell_type": "code",
   "execution_count": 11,
   "id": "c6865564-adfa-40c2-a946-04040349ecaf",
   "metadata": {},
   "outputs": [
    {
     "name": "stdout",
     "output_type": "stream",
     "text": [
      "[[12 15 18]]\n",
      "(1, 3)\n"
     ]
    }
   ],
   "source": [
    "print(np.sum(A,axis=0,keepdims=True))\n",
    "print(np.sum(A,axis=0,keepdims=True).shape)"
   ]
  },
  {
   "cell_type": "code",
   "execution_count": 13,
   "id": "41d0e8ca-c495-48b3-aa0c-14a0c6d1130b",
   "metadata": {},
   "outputs": [
    {
     "name": "stdout",
     "output_type": "stream",
     "text": [
      "[[ 6]\n",
      " [15]\n",
      " [24]]\n",
      "(3, 1)\n"
     ]
    }
   ],
   "source": [
    "print(np.sum(A,axis=1,keepdims=True))\n",
    "print(np.sum(A,axis=1,keepdims=True).shape)"
   ]
  },
  {
   "cell_type": "code",
   "execution_count": null,
   "id": "fbd5d150-d3c3-4881-818b-9ef7c38fe540",
   "metadata": {},
   "outputs": [],
   "source": []
  }
 ],
 "metadata": {
  "kernelspec": {
   "display_name": "Python 3 (ipykernel)",
   "language": "python",
   "name": "python3"
  },
  "language_info": {
   "codemirror_mode": {
    "name": "ipython",
    "version": 3
   },
   "file_extension": ".py",
   "mimetype": "text/x-python",
   "name": "python",
   "nbconvert_exporter": "python",
   "pygments_lexer": "ipython3",
   "version": "3.12.4"
  }
 },
 "nbformat": 4,
 "nbformat_minor": 5
}
